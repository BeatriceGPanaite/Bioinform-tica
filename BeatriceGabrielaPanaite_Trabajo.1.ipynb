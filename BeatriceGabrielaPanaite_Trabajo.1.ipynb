{
 "cells": [
  {
   "cell_type": "markdown",
   "id": "eaebb484",
   "metadata": {},
   "source": [
    "# TRABAJO DE PYTHON\n",
    "\n",
    "### Este trabajo cuenta el 30% de la nota. \n",
    "\n",
    "### Resuelve los siguientes ejercicios en Python\n",
    "\n",
    "#### Utiliza tantas celdas de código como necesites"
   ]
  },
  {
   "cell_type": "markdown",
   "id": "98d4d480",
   "metadata": {},
   "source": [
    "#### 1.- Carga el archivo *\"archivo.txt\"* en este Jupyter Notebook y guarda su contenido en una lista. (1 pto)"
   ]
  },
  {
   "cell_type": "code",
   "execution_count": 3,
   "id": "f6b21b23",
   "metadata": {},
   "outputs": [
    {
     "name": "stdout",
     "output_type": "stream",
     "text": [
      "['>CP043953.1 Acinetobacter baumannii strain K09-14 chromosome, complete genome\\nATGCTTTGGACAGACTGCTTAACTCGCTTGCGACAAGAGCTCTCTGATAACGTCTTTGCGATGTGGATTCGCCCTTTAGTAGCTGAAGAAGTAGAGGGGATACTACGTCTCTATGCTCCTAATCCTTATTGGACGCGTTATATTCAAGAGAATCATTTAGAGTTAATTTCTATATTGGCTGAACAATTGTCAGAAGGGCGGGTGCGTCAGGTTGAAATCTTGGTAGATTCTCGTCCTGGTAGTATTTTGTCTTCTAGTGAACAGCCTGCAACAACTACAGCAGCTTTACAAACTGCCCCTATACCTCAACCTGCTAAGGTTAAAAGAGAACCGGAACCTGTTGCTAATACTGCAGTTAGTTCTAAGAGTTCAAAAAAGAAACTATTAAATCCACAATTTACTTTTTCACTATTTGTTGAAGGCCGTTCTAACCAAATGGCAGCAGAAACCTGTAGAAAAGTATTAACACAGTTAGGTGCTTCTCAACATAACCCTTTGTTTTTATATGGTCCGACAGGTCTAGGTAAGACTCACTTAATGCAAGCAGTTGGTAATGCCCTACTGCAAGCGAAGCCGAATGCAAGAGTCATGTATATGACTTCAGAAAGTTTTGTACAAGATTTTGTGAGCTCATTACAAAAAGGAAAGGTAGAAGAGTTTAAGAAAAATTGCCGTTCTTTAGACTTGTTATTAGTAGATGATATTCATCTTTTGGCAGGAAAAGAAGCAAGTCTCGTTGAATTCTTCTATACATTTAATGCCTTACTTGATGAATCTAAACAAATTATTTTAACGTCTGATCGATATCCTAAAGAATTAACAGAACTTGATCCTCGATTGGTTTCTCGTTTTTCCTGGGGGCTATCAGTAGGTGTTGAACCACCTGATATTGAAACTCGAATCGAAATTCTGCTTAAAAAAGCTGAAAATAGTGGCGTTGATTTACCTAGAAACTGTGCGTTGTTTATTGCCCAACAAGTCGTAGCGAACGTACGTGAACTTGAGGGCGCACTGAATAAAGTTGTCGCAATTTCACGTTTTAAAGGTGCTCCAATTGACCTGGATGTCGTACGGGAATCTTTAAAAGATGTTTTAGCGATCCGTGCTCGTACAATTAGTGTAGAAAATATCCAGCGTGTAGTGAGTGAATATTTCCGAATTCCATTAAAAGAGCTGGTAGGTCCAAAGCGTACCCGAATTTATGCTCGACCACGTCAGTTGGCGATGGGGCTTGCCCGTGAATTAACGGGGGATAGTTTTCCTGAAATTGGAATGGCTTTTGGTGGGCGTGATCACAGTACAGTGATGCATGCTTGTGAAAAAGTCGTC']\n"
     ]
    }
   ],
   "source": [
    "mi_archivo=open('archivo.txt')\n",
    "contenido=mi_archivo.read()\n",
    "mi_lista=[contenido]\n",
    "print(mi_lista)\n"
   ]
  },
  {
   "cell_type": "markdown",
   "id": "400fa3f1",
   "metadata": {},
   "source": [
    "###2.- Muestre el encabezado y la secuencia y guarde cada uno en variables separadas. Elimine el elemento \"\\n\" del encabezado con replace(). ¿Cual es la longitud de la secuencia?. (1 pto)\n"
   ]
  },
  {
   "cell_type": "code",
   "execution_count": 5,
   "id": "6f25a76f-ae79-4b57-886a-595cef456e96",
   "metadata": {},
   "outputs": [
    {
     "name": "stdout",
     "output_type": "stream",
     "text": [
      ">CP043953.1 Acinetobacter baumannii strain K09-14 chromosome, complete genome\n",
      "ATGCTTTGGACAGACTGCTTAACTCGCTTGCGACAAGAGCTCTCTGATAACGTCTTTGCGATGTGGATTCGCCCTTTAGTAGCTGAAGAAGTAGAGGGGATACTACGTCTCTATGCTCCTAATCCTTATTGGACGCGTTATATTCAAGAGAATCATTTAGAGTTAATTTCTATATTGGCTGAACAATTGTCAGAAGGGCGGGTGCGTCAGGTTGAAATCTTGGTAGATTCTCGTCCTGGTAGTATTTTGTCTTCTAGTGAACAGCCTGCAACAACTACAGCAGCTTTACAAACTGCCCCTATACCTCAACCTGCTAAGGTTAAAAGAGAACCGGAACCTGTTGCTAATACTGCAGTTAGTTCTAAGAGTTCAAAAAAGAAACTATTAAATCCACAATTTACTTTTTCACTATTTGTTGAAGGCCGTTCTAACCAAATGGCAGCAGAAACCTGTAGAAAAGTATTAACACAGTTAGGTGCTTCTCAACATAACCCTTTGTTTTTATATGGTCCGACAGGTCTAGGTAAGACTCACTTAATGCAAGCAGTTGGTAATGCCCTACTGCAAGCGAAGCCGAATGCAAGAGTCATGTATATGACTTCAGAAAGTTTTGTACAAGATTTTGTGAGCTCATTACAAAAAGGAAAGGTAGAAGAGTTTAAGAAAAATTGCCGTTCTTTAGACTTGTTATTAGTAGATGATATTCATCTTTTGGCAGGAAAAGAAGCAAGTCTCGTTGAATTCTTCTATACATTTAATGCCTTACTTGATGAATCTAAACAAATTATTTTAACGTCTGATCGATATCCTAAAGAATTAACAGAACTTGATCCTCGATTGGTTTCTCGTTTTTCCTGGGGGCTATCAGTAGGTGTTGAACCACCTGATATTGAAACTCGAATCGAAATTCTGCTTAAAAAAGCTGAAAATAGTGGCGTTGATTTACCTAGAAACTGTGCGTTGTTTATTGCCCAACAAGTCGTAGCGAACGTACGTGAACTTGAGGGCGCACTGAATAAAGTTGTCGCAATTTCACGTTTTAAAGGTGCTCCAATTGACCTGGATGTCGTACGGGAATCTTTAAAAGATGTTTTAGCGATCCGTGCTCGTACAATTAGTGTAGAAAATATCCAGCGTGTAGTGAGTGAATATTTCCGAATTCCATTAAAAGAGCTGGTAGGTCCAAAGCGTACCCGAATTTATGCTCGACCACGTCAGTTGGCGATGGGGCTTGCCCGTGAATTAACGGGGGATAGTTTTCCTGAAATTGGAATGGCTTTTGGTGGGCGTGATCACAGTACAGTGATGCATGCTTGTGAAAAAGTCGTC\n",
      "1329\n"
     ]
    }
   ],
   "source": [
    "mi_lista=contenido.split('\\n')\n",
    "encabezado=mi_lista[0]\n",
    "print(encabezado)\n",
    "secuencia=mi_lista[1]\n",
    "print(secuencia)\n",
    "len_secuencia=len(secuencia)\n",
    "print(len_secuencia)\n",
    "\n"
   ]
  },
  {
   "cell_type": "markdown",
   "id": "19339d5b-2cce-4b1c-b9e9-ee598d896938",
   "metadata": {},
   "source": [
    "#### 3.- Para el encabezado, extrae empleando expresiones regulares el identificador. (1pto)"
   ]
  },
  {
   "cell_type": "code",
   "execution_count": 7,
   "id": "d845bb81",
   "metadata": {},
   "outputs": [
    {
     "name": "stdout",
     "output_type": "stream",
     "text": [
      "['>CP043953.1']\n"
     ]
    }
   ],
   "source": [
    "import re\n",
    "ident=re.findall(r'>\\S+',encabezado)\n",
    "print(ident)"
   ]
  },
  {
   "cell_type": "markdown",
   "id": "f38fdda0",
   "metadata": {},
   "source": [
    "#### 4.- Para la secuencia, haz un algoritmo que vaya sumando el numero de adeninas (A) y timinas (T) segun vaya iterando por la secuencia. El numero total de adeninas y timinas deberia guardarse en una misma variable. (1 pto)"
   ]
  },
  {
   "cell_type": "code",
   "execution_count": 9,
   "id": "2914b1f2",
   "metadata": {},
   "outputs": [
    {
     "name": "stdout",
     "output_type": "stream",
     "text": [
      "388\n",
      "405\n",
      "[388, 405, 793]\n"
     ]
    }
   ],
   "source": [
    "ade_tim=re.finditer(r\"[AT]\",secuencia)\n",
    "num_adenina=0\n",
    "num_timina=0\n",
    "for nucleotido in ade_tim:\n",
    "    if nucleotido.group()=='A':\n",
    "        num_adenina+=1\n",
    "    if nucleotido.group()=='T':\n",
    "        num_timina+=1\n",
    "print(num_adenina)\n",
    "print(num_timina)\n",
    "suma_at=num_adenina+num_timina\n",
    "lista_at=[num_adenina,num_timina,suma_at]   \n",
    "print(lista_at)\n"
   ]
  },
  {
   "cell_type": "markdown",
   "id": "98096e73",
   "metadata": {},
   "source": [
    "#### 5.- Escribe una funcion que calcule el porcentaje de un nucleotido de una secuencia y que examine la entrada para comprobar que se ha introducido un nucleotido de los cuatro tipos que hay (A, T, G o C). Devuelve el resultado con un decimal. Por ultimo comprueba que tu codigo funciona con las siguientes *assertions*. (1 pto)"
   ]
  },
  {
   "cell_type": "code",
   "execution_count": 11,
   "id": "6cf13ee5-3473-4cb4-a1e4-dc7ec17ade76",
   "metadata": {},
   "outputs": [
    {
     "name": "stdout",
     "output_type": "stream",
     "text": [
      "29.2\n",
      "30.5\n",
      "22.0\n",
      "18.3\n"
     ]
    }
   ],
   "source": [
    "def calculo_porcentaje(base,secuencia):\n",
    "    num_base=0\n",
    "    for nucleotido in secuencia:\n",
    "        if nucleotido==base:\n",
    "            num_base+=1\n",
    "    num_total=len(secuencia)\n",
    "    porcentaje=round(num_base/num_total*100,1)\n",
    "    return porcentaje\n",
    "porcentaje_a=calculo_porcentaje(\"A\",secuencia)\n",
    "print(porcentaje_a)\n",
    "porcentaje_t=calculo_porcentaje(\"T\",secuencia)\n",
    "print(porcentaje_t)\n",
    "porcentaje_g=calculo_porcentaje(\"G\",secuencia)\n",
    "print(porcentaje_g)\n",
    "porcentaje_c=calculo_porcentaje(\"C\",secuencia)\n",
    "print(porcentaje_c)\n",
    "        "
   ]
  },
  {
   "cell_type": "code",
   "execution_count": 12,
   "id": "df4b86c4",
   "metadata": {},
   "outputs": [],
   "source": [
    "assert calculo_porcentaje(\"A\",secuencia) == 29.2\n",
    "assert calculo_porcentaje(\"T\",secuencia) == 30.5\n",
    "assert calculo_porcentaje(\"G\",secuencia) == 22.0\n",
    "assert calculo_porcentaje(\"C\",secuencia) == 18.3"
   ]
  },
  {
   "cell_type": "markdown",
   "id": "a28888dd",
   "metadata": {},
   "source": [
    "#### 6.- Devuelve la secuencia de ARN que surgiría a partir de la siguiente secuencia. Recuerda que la secuencia de ARN resultante tiene que ser complementaria a la de ADN y además, hay que cambiar un nucleótido. (1 pto)"
   ]
  },
  {
   "cell_type": "code",
   "execution_count": 14,
   "id": "b27feabb",
   "metadata": {},
   "outputs": [
    {
     "name": "stdout",
     "output_type": "stream",
     "text": [
      "UACGAAACCUGUCUGACGAAUUGAGCGAACGCUGUUCUCGAGAGACUAUUGCAGAAACGCUACACCUAAGCGGGAAAUCAUCGACUUCUUCAUCUCCCCUAUGAUGCAGAGAUACGAGGAUUAGGAAUAACCUGCGCAAUAUAAGUUCUCUUAGUAAAUCUCAAUUAAAGAUAUAACCGACUUGUUAACAGUCUUCCCGCCCACGCAGUCCAACUUUAGAACCAUCUAAGAGCAGGACCAUCAUAAAACAGAAGAUCACUUGUCGGACGUUGUUGAUGUCGUCGAAAUGUUUGACGGGGAUAUGGAGUUGGACGAUUCCAAUUUUCUCUUGGCCUUGGACAACGAUUAUGACGUCAAUCAAGAUUCUCAAGUUUUUUCUUUGAUAAUUUAGGUGUUAAAUGAAAAAGUGAUAAACAACUUCCGGCAAGAUUGGUUUACCGUCGUCUUUGGACAUCUUUUCAUAAUUGUGUCAAUCCACGAAGAGUUGUAUUGGGAAACAAAAAUAUACCAGGCUGUCCAGAUCCAUUCUGAGUGAAUUACGUUCGUCAACCAUUACGGGAUGACGUUCGCUUCGGCUUACGUUCUCAGUACAUAUACUGAAGUCUUUCAAAACAUGUUCUAAAACACUCGAGUAAUGUUUUUCCUUUCCAUCUUCUCAAAUUCUUUUUAACGGCAAGAAAUCUGAACAAUAAUCAUCUACUAUAAGUAGAAAACCGUCCUUUUCUUCGUUCAGAGCAACUUAAGAAGAUAUGUAAAUUACGGAAUGAACUACUUAGAUUUGUUUAAUAAAAUUGCAGACUAGCUAUAGGAUUUCUUAAUUGUCUUGAACUAGGAGCUAACCAAAGAGCAAAAAGGACCCCCGAUAGUCAUCCACAACUUGGUGGACUAUAACUUUGAGCUUAGCUUUAAGACGAAUUUUUUCGACUUUUAUCACCGCAACUAAAUGGAUCUUUGACACGCAACAAAUAACGGGUUGUUCAGCAUCGCUUGCAUGCACUUGAACUCCCGCGUGACUUAUUUCAACAGCGUUAAAGUGCAAAAUUUCCACGAGGUUAACUGGACCUACAGCAUGCCCUUAGAAAUUUUCUACAAAAUCGCUAGGCACGAGCAUGUUAAUCACAUCUUUUAUAGGUCGCACAUCACUCACUUAUAAAGGCUUAAGGUAAUUUUCUCGACCAUCCAGGUUUCGCAUGGGCUUAAAUACGAGCUGGUGCAGUCAACCGCUACCCCGAACGGGCACUUAAUUGCCCCCUAUCAAAAGGACUUUAACCUUACCGAAAACCACCCGCACUAGUGUCAUGUCACUACGUACGAACACUUUUUCAGCAG\n"
     ]
    }
   ],
   "source": [
    "secuencia_complementaria=\"\"\n",
    "for nucleotido in secuencia:\n",
    "    if nucleotido==\"A\":\n",
    "        secuencia_complementaria=secuencia_complementaria+\"U\"\n",
    "    if nucleotido==\"T\":\n",
    "        secuencia_complementaria=secuencia_complementaria+\"A\"\n",
    "    if nucleotido==\"C\":\n",
    "        secuencia_complementaria=secuencia_complementaria+\"G\"\n",
    "    if nucleotido==\"G\":\n",
    "        secuencia_complementaria=secuencia_complementaria+\"C\"\n",
    "print(secuencia_complementaria)"
   ]
  },
  {
   "cell_type": "markdown",
   "id": "9f94d5dd",
   "metadata": {},
   "source": [
    "#### 7.- Realiza una función que realice una digestión con las siguientes enzimas de restricción en nuestra secuencia. La función tiene que devolver la siguiente información: (2 pto)\n",
    "1. Enzimas que tienen sitios de corte en la secuencia y posición (o posiciones de corte)\n",
    "2. Enzimas que no tienen sitios de corte (si las hay)\n",
    "3. Resultado de la digestión: los fragmentos resultantes de nuestra secuencia\n",
    "4. Indicar número y tamaño de cada fragmento"
   ]
  },
  {
   "cell_type": "code",
   "execution_count": 16,
   "id": "1a4ee119-bd91-4a56-99c0-b8e139affafe",
   "metadata": {},
   "outputs": [
    {
     "name": "stdout",
     "output_type": "stream",
     "text": [
      "HindIII\n",
      "La enzima HindIII no tiene sitio de corte.\n",
      "BamHI\n",
      "La enzima BamHI no tiene sitio de corte.\n",
      "AluI\n",
      "La enzima AluI tiene sitio de corte.\n",
      "La enzima AluI tiene las posiciones de corte: [0, 39, 82, 283, 629, 922, 1173, 1329]\n",
      "La enzima AluI divide la secuencia en 7 fragmentos\n",
      "El fragmento 1 tiene 39 bases: ATGCTTTGGACAGACTGCTTAACTCGCTTGCGACAAGAG\n",
      "El fragmento 2 tiene 43 bases: CTCTCTGATAACGTCTTTGCGATGTGGATTCGCCCTTTAGTAG\n",
      "El fragmento 3 tiene 201 bases: CTGAAGAAGTAGAGGGGATACTACGTCTCTATGCTCCTAATCCTTATTGGACGCGTTATATTCAAGAGAATCATTTAGAGTTAATTTCTATATTGGCTGAACAATTGTCAGAAGGGCGGGTGCGTCAGGTTGAAATCTTGGTAGATTCTCGTCCTGGTAGTATTTTGTCTTCTAGTGAACAGCCTGCAACAACTACAGCAG\n",
      "El fragmento 4 tiene 346 bases: CTTTACAAACTGCCCCTATACCTCAACCTGCTAAGGTTAAAAGAGAACCGGAACCTGTTGCTAATACTGCAGTTAGTTCTAAGAGTTCAAAAAAGAAACTATTAAATCCACAATTTACTTTTTCACTATTTGTTGAAGGCCGTTCTAACCAAATGGCAGCAGAAACCTGTAGAAAAGTATTAACACAGTTAGGTGCTTCTCAACATAACCCTTTGTTTTTATATGGTCCGACAGGTCTAGGTAAGACTCACTTAATGCAAGCAGTTGGTAATGCCCTACTGCAAGCGAAGCCGAATGCAAGAGTCATGTATATGACTTCAGAAAGTTTTGTACAAGATTTTGTGAG\n",
      "El fragmento 5 tiene 293 bases: CTCATTACAAAAAGGAAAGGTAGAAGAGTTTAAGAAAAATTGCCGTTCTTTAGACTTGTTATTAGTAGATGATATTCATCTTTTGGCAGGAAAAGAAGCAAGTCTCGTTGAATTCTTCTATACATTTAATGCCTTACTTGATGAATCTAAACAAATTATTTTAACGTCTGATCGATATCCTAAAGAATTAACAGAACTTGATCCTCGATTGGTTTCTCGTTTTTCCTGGGGGCTATCAGTAGGTGTTGAACCACCTGATATTGAAACTCGAATCGAAATTCTGCTTAAAAAAG\n",
      "El fragmento 6 tiene 251 bases: CTGAAAATAGTGGCGTTGATTTACCTAGAAACTGTGCGTTGTTTATTGCCCAACAAGTCGTAGCGAACGTACGTGAACTTGAGGGCGCACTGAATAAAGTTGTCGCAATTTCACGTTTTAAAGGTGCTCCAATTGACCTGGATGTCGTACGGGAATCTTTAAAAGATGTTTTAGCGATCCGTGCTCGTACAATTAGTGTAGAAAATATCCAGCGTGTAGTGAGTGAATATTTCCGAATTCCATTAAAAGAG\n",
      "El fragmento 7 tiene 156 bases: CTGGTAGGTCCAAAGCGTACCCGAATTTATGCTCGACCACGTCAGTTGGCGATGGGGCTTGCCCGTGAATTAACGGGGGATAGTTTTCCTGAAATTGGAATGGCTTTTGGTGGGCGTGATCACAGTACAGTGATGCATGCTTGTGAAAAAGTCGTC\n",
      "Sau3AI\n",
      "La enzima Sau3AI tiene sitio de corte.\n",
      "La enzima Sau3AI tiene las posiciones de corte: [0, 798, 828, 1097, 1290, 1329]\n",
      "La enzima Sau3AI divide la secuencia en 5 fragmentos\n",
      "El fragmento 1 tiene 798 bases: ATGCTTTGGACAGACTGCTTAACTCGCTTGCGACAAGAGCTCTCTGATAACGTCTTTGCGATGTGGATTCGCCCTTTAGTAGCTGAAGAAGTAGAGGGGATACTACGTCTCTATGCTCCTAATCCTTATTGGACGCGTTATATTCAAGAGAATCATTTAGAGTTAATTTCTATATTGGCTGAACAATTGTCAGAAGGGCGGGTGCGTCAGGTTGAAATCTTGGTAGATTCTCGTCCTGGTAGTATTTTGTCTTCTAGTGAACAGCCTGCAACAACTACAGCAGCTTTACAAACTGCCCCTATACCTCAACCTGCTAAGGTTAAAAGAGAACCGGAACCTGTTGCTAATACTGCAGTTAGTTCTAAGAGTTCAAAAAAGAAACTATTAAATCCACAATTTACTTTTTCACTATTTGTTGAAGGCCGTTCTAACCAAATGGCAGCAGAAACCTGTAGAAAAGTATTAACACAGTTAGGTGCTTCTCAACATAACCCTTTGTTTTTATATGGTCCGACAGGTCTAGGTAAGACTCACTTAATGCAAGCAGTTGGTAATGCCCTACTGCAAGCGAAGCCGAATGCAAGAGTCATGTATATGACTTCAGAAAGTTTTGTACAAGATTTTGTGAGCTCATTACAAAAAGGAAAGGTAGAAGAGTTTAAGAAAAATTGCCGTTCTTTAGACTTGTTATTAGTAGATGATATTCATCTTTTGGCAGGAAAAGAAGCAAGTCTCGTTGAATTCTTCTATACATTTAATGCCTTACTTGATGAATCTAAACAAATTATTTTAACGTCT\n",
      "El fragmento 2 tiene 30 bases: GATCGATATCCTAAAGAATTAACAGAACTT\n",
      "El fragmento 3 tiene 269 bases: GATCCTCGATTGGTTTCTCGTTTTTCCTGGGGGCTATCAGTAGGTGTTGAACCACCTGATATTGAAACTCGAATCGAAATTCTGCTTAAAAAAGCTGAAAATAGTGGCGTTGATTTACCTAGAAACTGTGCGTTGTTTATTGCCCAACAAGTCGTAGCGAACGTACGTGAACTTGAGGGCGCACTGAATAAAGTTGTCGCAATTTCACGTTTTAAAGGTGCTCCAATTGACCTGGATGTCGTACGGGAATCTTTAAAAGATGTTTTAGC\n",
      "El fragmento 4 tiene 193 bases: GATCCGTGCTCGTACAATTAGTGTAGAAAATATCCAGCGTGTAGTGAGTGAATATTTCCGAATTCCATTAAAAGAGCTGGTAGGTCCAAAGCGTACCCGAATTTATGCTCGACCACGTCAGTTGGCGATGGGGCTTGCCCGTGAATTAACGGGGGATAGTTTTCCTGAAATTGGAATGGCTTTTGGTGGGCGT\n",
      "El fragmento 5 tiene 39 bases: GATCACAGTACAGTGATGCATGCTTGTGAAAAAGTCGTC\n",
      "EcoRI\n",
      "La enzima EcoRI tiene sitio de corte.\n",
      "La enzima EcoRI tiene las posiciones de corte: [0, 739, 1157, 1329]\n",
      "La enzima EcoRI divide la secuencia en 3 fragmentos\n",
      "El fragmento 1 tiene 739 bases: ATGCTTTGGACAGACTGCTTAACTCGCTTGCGACAAGAGCTCTCTGATAACGTCTTTGCGATGTGGATTCGCCCTTTAGTAGCTGAAGAAGTAGAGGGGATACTACGTCTCTATGCTCCTAATCCTTATTGGACGCGTTATATTCAAGAGAATCATTTAGAGTTAATTTCTATATTGGCTGAACAATTGTCAGAAGGGCGGGTGCGTCAGGTTGAAATCTTGGTAGATTCTCGTCCTGGTAGTATTTTGTCTTCTAGTGAACAGCCTGCAACAACTACAGCAGCTTTACAAACTGCCCCTATACCTCAACCTGCTAAGGTTAAAAGAGAACCGGAACCTGTTGCTAATACTGCAGTTAGTTCTAAGAGTTCAAAAAAGAAACTATTAAATCCACAATTTACTTTTTCACTATTTGTTGAAGGCCGTTCTAACCAAATGGCAGCAGAAACCTGTAGAAAAGTATTAACACAGTTAGGTGCTTCTCAACATAACCCTTTGTTTTTATATGGTCCGACAGGTCTAGGTAAGACTCACTTAATGCAAGCAGTTGGTAATGCCCTACTGCAAGCGAAGCCGAATGCAAGAGTCATGTATATGACTTCAGAAAGTTTTGTACAAGATTTTGTGAGCTCATTACAAAAAGGAAAGGTAGAAGAGTTTAAGAAAAATTGCCGTTCTTTAGACTTGTTATTAGTAGATGATATTCATCTTTTGGCAGGAAAAGAAGCAAGTCTCGTTG\n",
      "El fragmento 2 tiene 418 bases: AATTCTTCTATACATTTAATGCCTTACTTGATGAATCTAAACAAATTATTTTAACGTCTGATCGATATCCTAAAGAATTAACAGAACTTGATCCTCGATTGGTTTCTCGTTTTTCCTGGGGGCTATCAGTAGGTGTTGAACCACCTGATATTGAAACTCGAATCGAAATTCTGCTTAAAAAAGCTGAAAATAGTGGCGTTGATTTACCTAGAAACTGTGCGTTGTTTATTGCCCAACAAGTCGTAGCGAACGTACGTGAACTTGAGGGCGCACTGAATAAAGTTGTCGCAATTTCACGTTTTAAAGGTGCTCCAATTGACCTGGATGTCGTACGGGAATCTTTAAAAGATGTTTTAGCGATCCGTGCTCGTACAATTAGTGTAGAAAATATCCAGCGTGTAGTGAGTGAATATTTCCG\n",
      "El fragmento 3 tiene 172 bases: AATTCCATTAAAAGAGCTGGTAGGTCCAAAGCGTACCCGAATTTATGCTCGACCACGTCAGTTGGCGATGGGGCTTGCCCGTGAATTAACGGGGGATAGTTTTCCTGAAATTGGAATGGCTTTTGGTGGGCGTGATCACAGTACAGTGATGCATGCTTGTGAAAAAGTCGTC\n"
     ]
    }
   ],
   "source": [
    "enzR = {\n",
    "    'HindIII' : 'A*AGCTT',\n",
    "    'BamHI' : 'G*GATCC',\n",
    "    'AluI' : 'AG*CT',\n",
    "    'Sau3AI' : '*GATC',\n",
    "    'EcoRI' : 'G*AATTC'\n",
    "}\n",
    "\n",
    "enzimas = list(enzR.keys())    \n",
    "def digestion_enzimas(nom_enzima,enzR,secuencia):\n",
    "    Sitio_corte_info = {}\n",
    "    Pos_corte_info = {}\n",
    "    Frag_corte_info = {}\n",
    "    \n",
    "    for enzima in nom_enzima:\n",
    "        print(f\"{enzima}\")\n",
    "        sitios_corte=[0]\n",
    "        Fragmentos=[]\n",
    "        base = enzR[enzima]\n",
    "        patron_base = base.replace(\"*\",\"\")\n",
    "        #Para sacar los sitio de corte\n",
    "        if not re.search(patron_base,secuencia):\n",
    "            print(f\"La enzima {enzima} no tiene sitio de corte.\")\n",
    "            Sitio_corte_info[enzima]=\"NO\"\n",
    "        else:\n",
    "            print(f\"La enzima {enzima} tiene sitio de corte.\")\n",
    "            Sitio_corte_info[enzima]=\"SI\"\n",
    "            \n",
    "            #Para sacar las posiciones de corte\n",
    "            cortes= re.finditer(patron_base,secuencia)\n",
    "            for pos in cortes:\n",
    "                sitios_corte.append(pos.start()+base.index(\"*\"))\n",
    "            sitios_corte.append(len(secuencia))\n",
    "            Pos_corte_info[enzima]=sitios_corte\n",
    "            print(f\"La enzima {enzima} tiene las posiciones de corte: {sitios_corte}\")\n",
    "            \n",
    "            #Para saltar los fragmentos resultantes, longitud y numero de fragmentos\n",
    "            for i in range(len(sitios_corte)-1):\n",
    "                Fragmento = secuencia[sitios_corte[i]:sitios_corte[i+1]]\n",
    "                Fragmentos.append(Fragmento)\n",
    "            print(f\"La enzima {enzima} divide la secuencia en {len(Fragmentos)} fragmentos\")\n",
    "            x=1\n",
    "            for f in Fragmentos:\n",
    "                print(f\"El fragmento {x} tiene {len(f)} bases: {f}\")\n",
    "                x+=1\n",
    "            Frag_corte_info[enzima] = Fragmentos\n",
    "                \n",
    "    return Sitio_corte_info, Pos_corte_info, Frag_corte_info\n",
    "\n",
    "Sitio_corte_info, Pos_corte_info, Frag_corte_info = digestion_enzimas(enzimas,enzR,secuencia)\n",
    "    "
   ]
  },
  {
   "cell_type": "markdown",
   "id": "cae3c937",
   "metadata": {},
   "source": [
    "#### 8.- Realiza una función que mediante la introducción de una secuencia de ADN devuelva lo siguiente: (2pto)\n",
    "1. La secuencia traducida de proteína\n",
    "2. La longitud de la secuencia de ADN original y la longitud de la secuencia de proteínas final\n",
    "3. El porcentaje de aminoácidos aromáticos (en conjunto y por separado)\n"
   ]
  },
  {
   "cell_type": "code",
   "execution_count": 18,
   "id": "b3eaed43",
   "metadata": {},
   "outputs": [],
   "source": [
    "codigo_genetico = {\n",
    "    'UUU': 'Fenilalanina', 'UUC': 'Fenilalanina', \n",
    "    'UUA': 'Leucina', 'UUG': 'Leucina',\n",
    "    'CUU': 'Leucina', 'CUC': 'Leucina', 'CUA': 'Leucina', 'CUG': 'Leucina',\n",
    "    'AUU': 'Isoleucina', 'AUC': 'Isoleucina', 'AUA': 'Isoleucina', \n",
    "    'AUG': 'Metionina',\n",
    "    'GUU': 'Valina', 'GUC': 'Valina', 'GUA': 'Valina', 'GUG': 'Valina',\n",
    "    'UCU': 'Serina', 'UCC': 'Serina', 'UCA': 'Serina', 'UCG': 'Serina',\n",
    "    'CCU': 'Prolina', 'CCC': 'Prolina', 'CCA': 'Prolina', 'CCG': 'Prolina',\n",
    "    'ACU': 'Treonina', 'ACC': 'Treonina', 'ACA': 'Treonina', 'ACG': 'Treonina',\n",
    "    'GCU': 'Alanina', 'GCC': 'Alanina', 'GCA': 'Alanina', 'GCG': 'Alanina',\n",
    "    'UAU': 'Tirosina', 'UAC': 'Tirosina',\n",
    "    'UAA': 'Stop', 'UAG': 'Stop', 'UGA': 'Stop',\n",
    "    'CAU': 'Histidina', 'CAC': 'Histidina',\n",
    "    'CAA': 'Glutamina', 'CAG': 'Glutamina',\n",
    "    'AAU': 'Asparagina', 'AAC': 'Asparagina',\n",
    "    'AAA': 'Lisina', 'AAG': 'Lisina',\n",
    "    'GAU': 'Ácido Aspártico', 'GAC': 'Ácido Aspártico',\n",
    "    'GAA': 'Ácido Glutámico', 'GAG': 'Ácido Glutámico',\n",
    "    'UGU': 'Cisteína', 'UGC': 'Cisteína',\n",
    "    'UGG': 'Triptófano',\n",
    "    'CGU': 'Arginina', 'CGC': 'Arginina', 'CGA': 'Arginina', 'CGG': 'Arginina',\n",
    "    'AGU': 'Serina', 'AGC': 'Serina',\n",
    "    'AGA': 'Arginina', 'AGG': 'Arginina',\n",
    "    'GGU': 'Glicina', 'GGC': 'Glicina', 'GGA': 'Glicina', 'GGG': 'Glicina'\n",
    "}"
   ]
  },
  {
   "cell_type": "code",
   "execution_count": 19,
   "id": "1c43d765",
   "metadata": {},
   "outputs": [
    {
     "name": "stdout",
     "output_type": "stream",
     "text": [
      "Proteína 1: ['Tirosina', 'Ácido Glutámico', 'Treonina', 'Cisteína', 'Leucina', 'Treonina', 'Asparagina']\n",
      "Proteína 2: ['Alanina', 'Asparagina', 'Alanina', 'Valina', 'Leucina', 'Ácido Glutámico', 'Arginina', 'Leucina', 'Leucina', 'Glutamina', 'Lisina', 'Arginina', 'Tirosina', 'Treonina']\n",
      "Proteína 3: ['Alanina', 'Glicina', 'Asparagina', 'Histidina', 'Arginina', 'Leucina', 'Leucina', 'Histidina', 'Leucina', 'Prolina', 'Tirosina', 'Ácido Aspártico', 'Alanina', 'Ácido Glutámico', 'Isoleucina', 'Arginina', 'Glicina', 'Leucina', 'Glicina', 'Isoleucina', 'Treonina', 'Cisteína', 'Alanina', 'Isoleucina']\n",
      "Proteína 4: ['Valina', 'Leucina', 'Leucina', 'Valina', 'Asparagina', 'Leucina', 'Asparagina']\n",
      "Proteína 5: ['Arginina', 'Tirosina', 'Asparagina', 'Arginina', 'Leucina', 'Valina', 'Asparagina', 'Serina', 'Leucina', 'Prolina', 'Alanina', 'Histidina', 'Alanina', 'Valina', 'Glutamina', 'Leucina']\n",
      "Proteína 6: ['Asparagina', 'Histidina', 'Leucina', 'Arginina', 'Alanina', 'Glicina', 'Prolina', 'Serina']\n",
      "Proteína 7: ['Asparagina', 'Arginina', 'Arginina', 'Serina', 'Leucina', 'Valina', 'Glicina', 'Arginina', 'Cisteína']\n",
      "Proteína 8: ['Cisteína', 'Arginina', 'Arginina', 'Asparagina', 'Valina']\n",
      "Proteína 9: ['Arginina', 'Glicina', 'Tirosina', 'Glicina', 'Valina', 'Glicina', 'Arginina', 'Fenilalanina', 'Glutamina', 'Fenilalanina', 'Serina', 'Leucina', 'Glicina', 'Leucina', 'Glicina', 'Glutamina', 'Arginina', 'Leucina']\n",
      "Proteína 10: ['Arginina', 'Glutamina', 'Serina', 'Arginina', 'Fenilalanina', 'Serina', 'Serina', 'Fenilalanina', 'Fenilalanina', 'Fenilalanina', 'Ácido Aspártico', 'Asparagina', 'Leucina', 'Glicina', 'Valina', 'Lisina']\n",
      "Proteína 11: ['Lisina', 'Serina', 'Ácido Aspártico', 'Lisina', 'Glutamina', 'Leucina', 'Prolina', 'Alanina', 'Arginina', 'Leucina', 'Valina', 'Tirosina', 'Arginina', 'Arginina', 'Leucina', 'Triptófano', 'Treonina', 'Serina', 'Fenilalanina', 'Histidina', 'Asparagina', 'Cisteína', 'Valina', 'Asparagina', 'Prolina', 'Arginina', 'Arginina', 'Valina', 'Valina', 'Leucina', 'Glicina', 'Asparagina', 'Lisina', 'Asparagina', 'Isoleucina', 'Prolina', 'Glicina', 'Cisteína', 'Prolina', 'Ácido Aspártico', 'Prolina', 'Fenilalanina']\n",
      "Proteína 12: ['Valina', 'Asparagina', 'Tirosina', 'Valina', 'Arginina', 'Glutamina', 'Prolina', 'Leucina', 'Arginina', 'Ácido Aspártico', 'Ácido Aspártico', 'Valina', 'Arginina', 'Fenilalanina', 'Glicina', 'Leucina', 'Arginina', 'Serina', 'Glutamina', 'Tirosina', 'Isoleucina', 'Tirosina']\n",
      "Proteína 13: ['Serina', 'Leucina', 'Serina', 'Lisina', 'Histidina', 'Valina', 'Leucina', 'Lisina', 'Histidina', 'Serina', 'Serina', 'Asparagina', 'Valina', 'Fenilalanina', 'Prolina', 'Fenilalanina', 'Histidina', 'Leucina', 'Leucina', 'Lisina', 'Fenilalanina', 'Fenilalanina', 'Leucina', 'Treonina', 'Alanina', 'Arginina', 'Asparagina', 'Leucina', 'Asparagina', 'Asparagina', 'Asparagina', 'Histidina', 'Leucina', 'Leucina']\n",
      "Proteína 14: ['Valina', 'Ácido Glutámico', 'Asparagina', 'Arginina', 'Prolina', 'Fenilalanina', 'Leucina', 'Arginina', 'Serina', 'Ácido Glutámico', 'Glutamina', 'Leucina', 'Lisina', 'Lisina', 'Isoleucina', 'Cisteína', 'Lisina', 'Leucina', 'Arginina', 'Asparagina', 'Ácido Glutámico', 'Leucina', 'Leucina', 'Arginina', 'Fenilalanina', 'Valina']\n",
      "Proteína 15: ['Stop', 'Asparagina', 'Cisteína', 'Arginina', 'Leucina', 'Alanina', 'Isoleucina', 'Glicina', 'Fenilalanina', 'Leucina', 'Asparagina', 'Cisteína', 'Leucina', 'Ácido Glutámico', 'Leucina', 'Glicina', 'Alanina', 'Asparagina', 'Glutamina', 'Arginina', 'Alanina', 'Lisina', 'Arginina', 'Treonina', 'Prolina', 'Ácido Aspártico', 'Serina', 'Histidina', 'Prolina', 'Glutamina', 'Leucina', 'Glicina', 'Glicina', 'Leucina']\n",
      "Proteína 16: ['Leucina']\n",
      "Proteína 17: ['Alanina']\n",
      "Proteína 18: ['Leucina']\n",
      "Proteína 19: ['Ácido Aspártico', 'Ácido Glutámico', 'Fenilalanina', 'Fenilalanina', 'Arginina', 'Leucina', 'Leucina', 'Serina', 'Prolina', 'Glutamina', 'Leucina', 'Asparagina', 'Glicina', 'Serina', 'Leucina', 'Treonina', 'Arginina', 'Asparagina', 'Lisina']\n",
      "Proteína 20: ['Arginina', 'Valina', 'Valina', 'Glutamina', 'Histidina', 'Arginina', 'Leucina', 'Histidina', 'Alanina', 'Leucina', 'Ácido Glutámico', 'Leucina', 'Prolina', 'Arginina', 'Ácido Aspártico', 'Leucina', 'Fenilalanina', 'Glutamina', 'Glutamina', 'Arginina']\n",
      "Proteína 21: ['Serina', 'Alanina', 'Lisina', 'Fenilalanina', 'Prolina', 'Arginina', 'Glicina']\n",
      "Proteína 22: ['Leucina', 'Ácido Aspártico', 'Leucina', 'Glutamina', 'Histidina', 'Alanina', 'Leucina', 'Arginina', 'Asparagina', 'Fenilalanina', 'Leucina', 'Glutamina', 'Asparagina', 'Arginina']\n",
      "Proteína 23: ['Alanina', 'Arginina', 'Alanina', 'Cisteína']\n",
      "Proteína 24: ['Serina', 'Histidina', 'Leucina', 'Leucina']\n",
      "Proteína 25: ['Valina', 'Alanina', 'Histidina', 'Histidina', 'Serina', 'Leucina', 'Isoleucina', 'Lisina', 'Alanina']\n",
      "Proteína 26: ['Glicina', 'Asparagina', 'Fenilalanina', 'Leucina', 'Ácido Aspártico', 'Histidina', 'Prolina', 'Glicina', 'Fenilalanina', 'Alanina', 'Triptófano', 'Alanina']\n",
      "Proteína 27: ['Isoleucina', 'Arginina', 'Alanina', 'Glicina', 'Alanina', 'Valina', 'Asparagina', 'Arginina', 'Tirosina', 'Prolina', 'Ácido Glutámico', 'Arginina', 'Alanina', 'Leucina', 'Asparagina', 'Cisteína', 'Prolina', 'Leucina', 'Serina', 'Lisina', 'Glicina', 'Leucina']\n",
      "Proteína 28: ['Prolina', 'Tirosina', 'Arginina', 'Lisina', 'Prolina', 'Prolina', 'Alanina', 'Leucina', 'Valina', 'Serina', 'Cisteína', 'Histidina', 'Tirosina', 'Valina', 'Arginina', 'Treonina', 'Leucina', 'Fenilalanina', 'Glutamina', 'Glutamina']\n",
      "La secuencia de ADN tiene una longitud de 1329 bases y la secuencia de proteínas tiene 28 proteínas\n",
      "La Proteína 1 tiene un 14.29% de aminoacidos aromáticos con un 0.0% de Phe,14.29% de Tyr y 0.0% de Trp.\n",
      "La Proteína 2 tiene un 7.14% de aminoacidos aromáticos con un 0.0% de Phe,7.14% de Tyr y 0.0% de Trp.\n",
      "La Proteína 3 tiene un 4.17% de aminoacidos aromáticos con un 0.0% de Phe,4.17% de Tyr y 0.0% de Trp.\n",
      "La Proteína 4 tiene un 0.0% de aminoacidos aromáticos con un 0.0% de Phe,0.0% de Tyr y 0.0% de Trp.\n",
      "La Proteína 5 tiene un 6.25% de aminoacidos aromáticos con un 0.0% de Phe,6.25% de Tyr y 0.0% de Trp.\n",
      "La Proteína 6 tiene un 0.0% de aminoacidos aromáticos con un 0.0% de Phe,0.0% de Tyr y 0.0% de Trp.\n",
      "La Proteína 7 tiene un 0.0% de aminoacidos aromáticos con un 0.0% de Phe,0.0% de Tyr y 0.0% de Trp.\n",
      "La Proteína 8 tiene un 0.0% de aminoacidos aromáticos con un 0.0% de Phe,0.0% de Tyr y 0.0% de Trp.\n",
      "La Proteína 9 tiene un 16.67% de aminoacidos aromáticos con un 11.11% de Phe,5.56% de Tyr y 0.0% de Trp.\n",
      "La Proteína 10 tiene un 25.0% de aminoacidos aromáticos con un 25.0% de Phe,0.0% de Tyr y 0.0% de Trp.\n",
      "La Proteína 11 tiene un 9.52% de aminoacidos aromáticos con un 4.76% de Phe,2.38% de Tyr y 2.38% de Trp.\n",
      "La Proteína 12 tiene un 18.18% de aminoacidos aromáticos con un 4.55% de Phe,13.64% de Tyr y 0.0% de Trp.\n",
      "La Proteína 13 tiene un 11.76% de aminoacidos aromáticos con un 11.76% de Phe,0.0% de Tyr y 0.0% de Trp.\n",
      "La Proteína 14 tiene un 7.69% de aminoacidos aromáticos con un 7.69% de Phe,0.0% de Tyr y 0.0% de Trp.\n",
      "La Proteína 15 tiene un 2.94% de aminoacidos aromáticos con un 2.94% de Phe,0.0% de Tyr y 0.0% de Trp.\n",
      "La Proteína 16 tiene un 0.0% de aminoacidos aromáticos con un 0.0% de Phe,0.0% de Tyr y 0.0% de Trp.\n",
      "La Proteína 17 tiene un 0.0% de aminoacidos aromáticos con un 0.0% de Phe,0.0% de Tyr y 0.0% de Trp.\n",
      "La Proteína 18 tiene un 0.0% de aminoacidos aromáticos con un 0.0% de Phe,0.0% de Tyr y 0.0% de Trp.\n",
      "La Proteína 19 tiene un 10.53% de aminoacidos aromáticos con un 10.53% de Phe,0.0% de Tyr y 0.0% de Trp.\n",
      "La Proteína 20 tiene un 5.0% de aminoacidos aromáticos con un 5.0% de Phe,0.0% de Tyr y 0.0% de Trp.\n",
      "La Proteína 21 tiene un 14.29% de aminoacidos aromáticos con un 14.29% de Phe,0.0% de Tyr y 0.0% de Trp.\n",
      "La Proteína 22 tiene un 7.14% de aminoacidos aromáticos con un 7.14% de Phe,0.0% de Tyr y 0.0% de Trp.\n",
      "La Proteína 23 tiene un 0.0% de aminoacidos aromáticos con un 0.0% de Phe,0.0% de Tyr y 0.0% de Trp.\n",
      "La Proteína 24 tiene un 0.0% de aminoacidos aromáticos con un 0.0% de Phe,0.0% de Tyr y 0.0% de Trp.\n",
      "La Proteína 25 tiene un 0.0% de aminoacidos aromáticos con un 0.0% de Phe,0.0% de Tyr y 0.0% de Trp.\n",
      "La Proteína 26 tiene un 25.0% de aminoacidos aromáticos con un 16.67% de Phe,0.0% de Tyr y 8.33% de Trp.\n",
      "La Proteína 27 tiene un 4.55% de aminoacidos aromáticos con un 0.0% de Phe,4.55% de Tyr y 0.0% de Trp.\n",
      "La Proteína 28 tiene un 15.0% de aminoacidos aromáticos con un 5.0% de Phe,10.0% de Tyr y 0.0% de Trp.\n"
     ]
    }
   ],
   "source": [
    "def secuencia_proteinas(secuencia):\n",
    "\n",
    "    codon=\"\"\n",
    "    i=1\n",
    "    clave= f\"Proteína {i}\"\n",
    "    sec_proteinas={}\n",
    "    sec_proteinas[clave]=[]\n",
    "\n",
    "    #Para sacar la secuencia traducida de proteínas\n",
    "    for base in secuencia:\n",
    "        codon= codon + base\n",
    "        if len(codon)==3:\n",
    "            aminoacido = codigo_genetico[codon]\n",
    "            if aminoacido == \"Stop\" and not sec_proteinas[clave] == []:\n",
    "                i+=1\n",
    "                clave= f\"Proteína {i}\"\n",
    "                sec_proteinas[clave]=[]\n",
    "            else:\n",
    "                sec_proteinas[clave].append(aminoacido)\n",
    "            codon=\"\"\n",
    "    for proteina in sec_proteinas.keys():\n",
    "        print(f\"{proteina}: {sec_proteinas[proteina]}\")\n",
    "\n",
    "    #Para sacar la longitud secuencia de ADN original y de secuencia de proteinas\n",
    "\n",
    "    len_ADN=len(secuencia)\n",
    "    len_proteinas=len(sec_proteinas)\n",
    "    print(f\"La secuencia de ADN tiene una longitud de {len_ADN} bases y la secuencia de proteínas tiene {len_proteinas} proteínas\")\n",
    "\n",
    "    #Para sacar el porcentaje de aminoacidos aromaticos en conjunto y por separado\n",
    "    \n",
    "    aromaticos= [\"Fenilalanina\",\"Tirosina\",\"Triptófano\"]\n",
    "    num_Phe={}\n",
    "    num_Tyr={}\n",
    "    num_Trp={}\n",
    "    for proteina in sec_proteinas.keys():\n",
    "        num_Phe[proteina]=0\n",
    "        num_Tyr[proteina]=0\n",
    "        num_Trp[proteina]=0\n",
    "        len_proteina= len(sec_proteinas[proteina])\n",
    "        \n",
    "        for aminoacido in sec_proteinas[proteina]:\n",
    "            if aminoacido == \"Fenilalanina\":\n",
    "                num_Phe[proteina]+=1\n",
    "            if aminoacido == \"Tirosina\":\n",
    "                num_Tyr[proteina]+=1\n",
    "            if aminoacido == \"Triptófano\":\n",
    "                num_Trp[proteina]+=1\n",
    "                \n",
    "        por_aroma= round((num_Phe[proteina] +num_Tyr[proteina] + num_Trp[proteina])/len_proteina*100,2)\n",
    "        por_Phe=round(num_Phe[proteina]/len_proteina*100,2)\n",
    "        por_Tyr=round(num_Tyr[proteina]/len_proteina*100,2)\n",
    "        por_Trp=round(num_Trp[proteina]/len_proteina*100,2)\n",
    "        print(f\"La {proteina} tiene un {por_aroma}% de aminoacidos aromáticos con un {por_Phe}% de Phe,{por_Tyr}% de Tyr y {por_Trp}% de Trp.\")\n",
    "\n",
    "secuencia_proteinas(secuencia_complementaria)"
   ]
  }
 ],
 "metadata": {
  "kernelspec": {
   "display_name": "Python 3 (ipykernel)",
   "language": "python",
   "name": "python3"
  },
  "language_info": {
   "codemirror_mode": {
    "name": "ipython",
    "version": 3
   },
   "file_extension": ".py",
   "mimetype": "text/x-python",
   "name": "python",
   "nbconvert_exporter": "python",
   "pygments_lexer": "ipython3",
   "version": "3.12.4"
  }
 },
 "nbformat": 4,
 "nbformat_minor": 5
}
